{
 "cells": [
  {
   "cell_type": "code",
   "execution_count": null,
   "id": "2e4f3837",
   "metadata": {},
   "outputs": [],
   "source": [
    "import cv2\n",
    "import numpy as np\n",
    "import matplotlib.pyplot as plt\n",
    "import plotly.express as px\n",
    "from PIL import Image, ImageFilter\n",
    "import matplotlib.pyplot as plt\n",
    "from scipy import ndimage as ndi\n",
    "from skimage.util import random_noise\n",
    "from skimage import feature\n",
    "import shapely\n",
    "import itertools\n",
    "from collections import defaultdict\n",
    "from shapely.geometry import LineString, Point\n",
    "from easyocr import Reader\n",
    "import cv2\n",
    "from PIL import Image\n",
    "import cv2\n",
    "from pytesseract import pytesseract\n",
    "import numpy as np\n",
    "import matplotlib.patches as patches"
   ]
  },
  {
   "cell_type": "code",
   "execution_count": null,
   "id": "d54a2755",
   "metadata": {},
   "outputs": [],
   "source": [
    "# Defining path to tesseract.exe \n",
    "pytesseract.tesseract_cmd = '/bin/tesseract'"
   ]
  },
  {
   "cell_type": "markdown",
   "id": "66c0a2ed",
   "metadata": {},
   "source": [
    "# New text detection"
   ]
  },
  {
   "cell_type": "code",
   "execution_count": null,
   "id": "b9bfdd3b",
   "metadata": {},
   "outputs": [],
   "source": [
    "path_abcd = \"/home/joanna/Pulpit/Bioinf 2.2/ADP/projekt/pdf_tree_converter/test_data/Dendrogram.png\"\n",
    "path_long = \"/home/joanna/Pulpit/Bioinf 2.2/ADP/projekt/pdf_tree_converter/test_data/phylogenetics_1.jpg\"\n",
    "path_long2 = \"/home/joanna/Pulpit/Bioinf 2.2/ADP/projekt/pdf_tree_converter/test_data/phylogram_4.png\"\n",
    "\n",
    "paths = [path_abcd, path_long, path_long2]"
   ]
  },
  {
   "cell_type": "code",
   "execution_count": null,
   "id": "6dc50013",
   "metadata": {},
   "outputs": [],
   "source": [
    "def preprocess_boxes(results):\n",
    "    boxes = []\n",
    "    for result in results:\n",
    "        box = result[0]\n",
    "        starting_point = tuple(box[0])\n",
    "        width = box[1][0] - box[0][0]\n",
    "        height = box[2][1] - box[0][1]\n",
    "        box = [starting_point, width, height]\n",
    "        boxes.append(box)\n",
    "    return boxes"
   ]
  },
  {
   "cell_type": "code",
   "execution_count": null,
   "id": "8d1a5e9f",
   "metadata": {},
   "outputs": [],
   "source": [
    "def plot_image_with_boxes(image, boxes, figsize=(16, 9)):\n",
    "    fig, ax = plt.subplots(figsize=figsize)\n",
    "    ax.imshow(image, cmap=plt.cm.gray)\n",
    "    for box in boxes:\n",
    "        starting_point, width, height = box\n",
    "        rect = patches.Rectangle(starting_point, width, height, \n",
    "                                 linewidth=1, edgecolor='r', facecolor='none')\n",
    "        ax.add_patch(rect)\n",
    "    plt.show()\n",
    "    return fig"
   ]
  },
  {
   "cell_type": "code",
   "execution_count": null,
   "id": "3816221d",
   "metadata": {},
   "outputs": [],
   "source": [
    "reader = Reader(lang_list=[\"en\"])"
   ]
  },
  {
   "cell_type": "code",
   "execution_count": null,
   "id": "415e1b80",
   "metadata": {},
   "outputs": [],
   "source": [
    "boxes"
   ]
  },
  {
   "cell_type": "code",
   "execution_count": null,
   "id": "86235919",
   "metadata": {},
   "outputs": [],
   "source": [
    "image_path = paths[2]\n",
    "img = cv2.imread(image_path)\n",
    "img = cv2.resize(img, dsize=None, fx=2, fy=2)\n",
    "img = cv2.cvtColor(img, cv2.COLOR_BGR2GRAY)\n",
    "ret, thresh1 = cv2.threshold(img, 0, 255, cv2.THRESH_OTSU |\n",
    "                                        cv2.THRESH_BINARY_INV)\n",
    "if thresh1[0,0]<200:\n",
    "    thresh1 = np.where(thresh1>200, 0, 255)"
   ]
  },
  {
   "cell_type": "code",
   "execution_count": null,
   "id": "57ea2e68",
   "metadata": {},
   "outputs": [],
   "source": [
    "plt.imshow(thresh1, cmap=plt.cm.gray)"
   ]
  },
  {
   "cell_type": "code",
   "execution_count": null,
   "id": "89759516",
   "metadata": {},
   "outputs": [],
   "source": [
    "mg = cv2.imread(paths[0])"
   ]
  },
  {
   "cell_type": "code",
   "execution_count": null,
   "id": "509c4aa7",
   "metadata": {
    "scrolled": false
   },
   "outputs": [],
   "source": [
    "boxes_img = {}\n",
    "\n",
    "for path in paths:\n",
    "    img = cv2.imread(path)\n",
    "    \n",
    "    img = cv2.resize(img, dsize=None, fx=2, fy=2)\n",
    "    img = cv2.cvtColor(img, cv2.COLOR_BGR2GRAY)\n",
    "    ret, thresh1 = cv2.threshold(img, 0, 255, cv2.THRESH_OTSU |cv2.THRESH_BINARY_INV)\n",
    "    if thresh1[0,0]<200:\n",
    "        thresh1 = np.where(thresh1>200, 0, 255)\n",
    "    \n",
    "    results = reader.readtext(img, \n",
    "                              min_size=5, \n",
    "                              mag_ratio=2, \n",
    "                              slope_ths=0.2, \n",
    "                             )\n",
    "    text = [i[1] for i in results]\n",
    "    print(text)\n",
    "\n",
    "    boxes = preprocess_boxes(results)\n",
    "    boxes_img[path] = boxes\n",
    "    \n",
    "    fig = plot_image_with_boxes(thresh1, boxes, figsize=(16, 9))\n",
    "    \n",
    "    for box in boxes:\n",
    "        (x, y), w, h = box\n",
    "        img[y:(y+h),x:(x+w)] = 255\n",
    "        \n",
    "    fig2 = px.imshow(img)\n",
    "    fig2.show()"
   ]
  },
  {
   "cell_type": "code",
   "execution_count": null,
   "id": "50d77fcf",
   "metadata": {},
   "outputs": [],
   "source": [
    "boxes"
   ]
  },
  {
   "cell_type": "code",
   "execution_count": null,
   "id": "cff8010a",
   "metadata": {},
   "outputs": [],
   "source": [
    "import numpy as np\n",
    "im = cv2.imread(paths[2])\n",
    "im.shape"
   ]
  },
  {
   "cell_type": "code",
   "execution_count": null,
   "id": "770c2f59",
   "metadata": {},
   "outputs": [],
   "source": [
    "boxes_sorted_y = sorted(boxes, key=lambda x: x[1]+x[3], reverse=True) # height\n",
    "tree_box = boxes_sorted_y.pop()\n",
    "boxes_labels_sorted_x = sorted(boxes_sorted_y, key=lambda x: x[0]+x[2], reverse=False)\n",
    "for box in boxes_labels_sorted_x:\n",
    "    im2 = img.copy()\n",
    "    x, y, w, h = box\n",
    "    im2[y:(y+h),x:(x+h)] = 255"
   ]
  }
 ],
 "metadata": {
  "kernelspec": {
   "display_name": "Python 3 (ipykernel)",
   "language": "python",
   "name": "python3"
  },
  "language_info": {
   "codemirror_mode": {
    "name": "ipython",
    "version": 3
   },
   "file_extension": ".py",
   "mimetype": "text/x-python",
   "name": "python",
   "nbconvert_exporter": "python",
   "pygments_lexer": "ipython3",
   "version": "3.10.5"
  }
 },
 "nbformat": 4,
 "nbformat_minor": 5
}
