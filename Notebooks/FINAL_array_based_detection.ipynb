{
 "cells": [
  {
   "cell_type": "code",
   "execution_count": 4,
   "id": "bf666514",
   "metadata": {},
   "outputs": [],
   "source": [
    "import cv2\n",
    "import numpy as np\n",
    "import matplotlib.pyplot as plt\n",
    "import plotly.express as px\n",
    "import numpy as np\n",
    "import itertools\n",
    "from collections import defaultdict\n",
    "import os\n",
    "import sys\n",
    "sys.path.append('../')\n",
    "import Image"
   ]
  },
  {
   "cell_type": "markdown",
   "id": "63ef350a",
   "metadata": {},
   "source": [
    "# Final code with array-based line detection"
   ]
  },
  {
   "cell_type": "code",
   "execution_count": 5,
   "id": "fdd07c27",
   "metadata": {},
   "outputs": [
    {
     "name": "stdout",
     "output_type": "stream",
     "text": [
      "['../test_dendrograms/dot_tree.png', '../test_dendrograms/dendrogram_without_text_inverted.png']\n",
      "/home/joanna/Pulpit/Bioinf 2.2/ADP/projekt/pdf_tree_converter/test_dendrograms/dendrogram_without_text_inverted.png\n"
     ]
    }
   ],
   "source": [
    "folder_path = \"../test_dendrograms/\"\n",
    "test_data = [folder_path + i for i in os.listdir(folder_path)]\n",
    "print(test_data)\n",
    "\n",
    "selected_path = \"/home/joanna/Pulpit/Bioinf 2.2/ADP/projekt/pdf_tree_converter/test_data/dendogram2.png\"\n",
    "selected_path = \"/home/joanna/Pulpit/Bioinf 2.2/ADP/projekt/pdf_tree_converter/test_dendrograms/dendrogram_without_text_inverted.png\"\n",
    "print(selected_path)\n",
    "selected_path = test_data[0]"
   ]
  },
  {
   "cell_type": "code",
   "execution_count": 8,
   "id": "58fa403e",
   "metadata": {},
   "outputs": [
    {
     "name": "stdout",
     "output_type": "stream",
     "text": [
      "Example nonzero pixels= [(952, 0), (953, 0), (954, 0), (955, 0), (956, 0)]\n",
      "Number of y points with frequency > 100: 54\n",
      "Number of x points with frequency > 100: 39\n",
      "Here = (740, 958)\n"
     ]
    },
    {
     "data": {
      "image/png": "[encoded data removed]",
      "text/plain": [
       "<Figure size 720x432 with 1 Axes>"
      ]
     },
     "metadata": {
      "needs_background": "light"
     },
     "output_type": "display_data"
    }
   ],
   "source": [
    "min_line_len = 10\n",
    "min_freq = 100\n",
    "max_gap = 2\n",
    "\n",
    "image = Image.Image(selected_path)\n",
    "print(f\"Example nonzero pixels= {image.nonzero_pixels[:5]}\")\n",
    "v_lines, h_lines = image.find_all_lines(max_gap=max_gap, min_line_length=min_line_len, min_freq=min_freq)\n",
    "\n",
    "fig = image.plot_lines(list(v_lines.values()) + list((h_lines.values())))"
   ]
  }
 ],
 "metadata": {
  "kernelspec": {
   "display_name": "Python 3 (ipykernel)",
   "language": "python",
   "name": "python3"
  },
  "language_info": {
   "codemirror_mode": {
    "name": "ipython",
    "version": 3
   },
   "file_extension": ".py",
   "mimetype": "text/x-python",
   "name": "python",
   "nbconvert_exporter": "python",
   "pygments_lexer": "ipython3",
   "version": "3.10.5"
  }
 },
 "nbformat": 4,
 "nbformat_minor": 5
}
