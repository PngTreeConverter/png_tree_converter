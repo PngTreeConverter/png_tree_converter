{
 "cells": [
  {
   "cell_type": "code",
   "execution_count": 5,
   "id": "52fbcefd",
   "metadata": {},
   "outputs": [],
   "source": [
    "import cv2\n",
    "import numpy as np\n",
    "import matplotlib.pyplot as plt\n",
    "import plotly.express as px\n",
    "# from PIL import Image, ImageFilter\n",
    "import matplotlib.pyplot as plt\n",
    "import numpy as np\n",
    "import itertools\n",
    "from collections import defaultdict\n",
    "from shapely.geometry import LineString, Point\n",
    "import copy\n",
    "import graphviz\n",
    "from Bio import Phylo\n",
    "from io import StringIO "
   ]
  },
  {
   "cell_type": "code",
   "execution_count": 6,
   "id": "478c1456",
   "metadata": {},
   "outputs": [],
   "source": [
    "import sys\n",
    "sys.path.append('../')\n",
    "import Image"
   ]
  },
  {
   "cell_type": "markdown",
   "id": "edfb3c1c",
   "metadata": {},
   "source": [
    "# Klasa\n",
    "artybuty:\n",
    "- bnw_image\n",
    "- linie pionowe\n",
    "- linie poziome\n",
    "- orientacja drzewa - podana przez użytkownika\n",
    "\n",
    "metody:\n",
    "- convert to BnW\n",
    "- niezerowe pixele\n",
    "- znajdowanie linii poziomych i pionowych\n",
    "- znajdowanie przecieć\n",
    "- znajdowanie liści\n",
    "- przekrecanie drzewa (ewentualnie?)"
   ]
  },
  {
   "cell_type": "code",
   "execution_count": 7,
   "id": "66c82d0f",
   "metadata": {},
   "outputs": [],
   "source": [
    "import cv2\n",
    "from collections import Counter\n",
    "import matplotlib.pyplot as plt\n",
    "import numpy as np\n",
    "import itertools\n",
    "from collections import defaultdict\n",
    "from shapely.geometry import LineString, Point\n",
    "\n",
    "class Image:\n",
    "    def __init__(\n",
    "            self,\n",
    "            image_path,\n",
    "            orientation=\"horizontal\",\n",
    "    ):\n",
    "        self.image_path = image_path\n",
    "        self.orientation = orientation\n",
    "\n",
    "        self.BnW_image = self.convert_to_bnw()\n",
    "        self.nonzero_pixels = self.get_nonzero_pixels()\n",
    "\n",
    "    def convert_to_bnw(self):\n",
    "        image = cv2.imread(self.image_path)\n",
    "        gray_image = cv2.cvtColor(image, cv2.COLOR_BGR2GRAY)\n",
    "        (thresh, BnW_image) = cv2.threshold(gray_image, 125, 255, cv2.THRESH_BINARY)\n",
    "        BnW_image = np.where(BnW_image == 255, 0, 255)\n",
    "        return BnW_image\n",
    "\n",
    "    def get_nonzero_pixels(self):\n",
    "        nonzero_pixels = []\n",
    "        for y, x in zip(list(self.BnW_image.nonzero()[0]), list(self.BnW_image.nonzero()[1])):\n",
    "            nonzero_pixels.append((x, y))\n",
    "        return nonzero_pixels\n",
    "\n",
    "    def get_top_coordinates(\n",
    "            self,\n",
    "            coord=\"y\",\n",
    "            min_freq=10,\n",
    "    ):\n",
    "        if coord == \"x\":\n",
    "            occurrences = Counter([x for x, y in self.nonzero_pixels])\n",
    "        elif coord == \"y\":\n",
    "            occurrences = Counter([y for x, y in self.nonzero_pixels])\n",
    "        selected_points = [point for point, freq in occurrences.items() if freq >= min_freq]\n",
    "        print(f\"Number of {coord} points with frequency > {min_freq}: {len(selected_points)}\")\n",
    "        return selected_points\n",
    "\n",
    "    def find_line_coords_old(\n",
    "            self,\n",
    "            candidate,\n",
    "            orientation='h',\n",
    "            max_gap=2,\n",
    "            min_line_length=20\n",
    "    ):\n",
    "        x_candidates = sorted([x for x, y in self.nonzero_pixels if y == candidate])\n",
    "\n",
    "        i = 0\n",
    "        line_coords = []\n",
    "        x0 = x_candidates[0]\n",
    "\n",
    "        while i < len(x_candidates) - 1:\n",
    "            if x_candidates[i + 1] - x_candidates[i] > max_gap:\n",
    "                if x_candidates[i] - x0 >= min_line_length:\n",
    "                    line_coords.append([(x0, candidate), (x_candidates[i], candidate)])\n",
    "                x0 = x_candidates[i + 1]\n",
    "                break\n",
    "            i += 1\n",
    "\n",
    "        if x_candidates[i] - x0 >= min_line_length:\n",
    "            line_coords.append([(x0, candidate), (x_candidates[i], candidate)])\n",
    "\n",
    "        return line_coords\n",
    "\n",
    "    def find_line_coords_y(\n",
    "        self,\n",
    "        candidate,\n",
    "        max_gap=2,\n",
    "        min_line_length=20\n",
    "    ):\n",
    "#         print(f\"y candidate = {candidate}\")\n",
    "        x_candidates = sorted([x for x, y in image.nonzero_pixels if y == candidate])\n",
    "      \n",
    "        lines = []\n",
    "        line = [x_candidates[0]]\n",
    "        for x0, x1 in zip(x_candidates[:-1], x_candidates[1:]):\n",
    "            if x1 - x0 <= max_gap:\n",
    "                line.append(x1)\n",
    "            else:\n",
    "                line = []\n",
    "            if len(line) >= min_line_length and line not in lines:\n",
    "                lines.append(line)\n",
    "        lines_coords = [[(line[0], candidate), (line[-1], candidate)] for line in lines]\n",
    "        return lines_coords\n",
    "\n",
    "    def find_line_coords_x(\n",
    "        self,\n",
    "        candidate,\n",
    "        max_gap=2,\n",
    "        min_line_length=20\n",
    "    ):\n",
    "#         print(f\"x candidate = {candidate}\")\n",
    "        y_candidates = sorted([y for x, y in image.nonzero_pixels if x == candidate])\n",
    "      \n",
    "        lines = []\n",
    "        line = [y_candidates[0]]\n",
    "        for y0, y1 in zip(y_candidates[:-1], y_candidates[1:]):\n",
    "            if y1 - y0 <= max_gap:\n",
    "                line.append(y1)\n",
    "            else:\n",
    "                line = []\n",
    "            if len(line) >= min_line_length and line not in lines:\n",
    "                lines.append(line)\n",
    "        lines_coords = [[(candidate, line[0]), (candidate, line[-1])] for line in lines]\n",
    "        return lines_coords\n",
    "    \n",
    "    def find_all_lines(\n",
    "            self,\n",
    "            max_gap=2,\n",
    "            min_line_length=20,\n",
    "            min_freq=50,\n",
    "#             threshold=2,\n",
    "    ):\n",
    "        y_candidates = self.get_top_coordinates(coord='y', min_freq=min_freq)\n",
    "        x_candidates = self.get_top_coordinates(coord='x', min_freq=min_freq)\n",
    "        \n",
    "        vertical_lines, horizontal_lines = {}, {}\n",
    "        for y_candidate in y_candidates:\n",
    "            horizontal_lines[y_candidate] = self.find_line_coords_y(y_candidate, max_gap, min_line_length)\n",
    "\n",
    "        for x_candidate in x_candidates:\n",
    "            vertical_lines[x_candidate] = self.find_line_coords_x(x_candidate, max_gap, min_line_length)\n",
    "        \n",
    "        return vertical_lines, horizontal_lines\n",
    "\n",
    "    def merge_lines(\n",
    "            self,\n",
    "    ):\n",
    "        pass"
   ]
  },
  {
   "cell_type": "code",
   "execution_count": 8,
   "id": "1bd85606",
   "metadata": {},
   "outputs": [
    {
     "ename": "NameError",
     "evalue": "name 'image' is not defined",
     "output_type": "error",
     "traceback": [
      "\u001b[0;31m---------------------------------------------------------------------------\u001b[0m",
      "\u001b[0;31mNameError\u001b[0m                                 Traceback (most recent call last)",
      "Input \u001b[0;32mIn [8]\u001b[0m, in \u001b[0;36m<cell line: 1>\u001b[0;34m()\u001b[0m\n\u001b[0;32m----> 1\u001b[0m \u001b[43mimage\u001b[49m\u001b[38;5;241m.\u001b[39mget_top_coordinates(coord\u001b[38;5;241m=\u001b[39m\u001b[38;5;124m'\u001b[39m\u001b[38;5;124my\u001b[39m\u001b[38;5;124m'\u001b[39m, min_freq\u001b[38;5;241m=\u001b[39m\u001b[38;5;241m20\u001b[39m)\n",
      "\u001b[0;31mNameError\u001b[0m: name 'image' is not defined"
     ]
    }
   ],
   "source": [
    "image.get_top_coordinates(coord='y', min_freq=20)"
   ]
  },
  {
   "cell_type": "code",
   "execution_count": null,
   "id": "ac0c4f14",
   "metadata": {},
   "outputs": [],
   "source": [
    "input_path = \"/home/joanna/Pulpit/Bioinf 2.2/ADP/projekt/pdf_tree_converter/test_data/dendogram2.png\"\n",
    "image = Image(input_path)\n",
    "print(f\"Nonzero = {image.nonzero_pixels[:5]}\")\n",
    "\n",
    "v_lines, h_lines = image.find_all_lines(max_gap=2, min_line_length=20, min_freq=10)\n",
    "\n",
    "plt.figure(figsize=(10,6))\n",
    "for line in list(v_lines.values()) + list(h_lines.values()):\n",
    "    if line:\n",
    "        x1, y1 = line[0][0]\n",
    "        x2, y2 = line[0][1]\n",
    "        plt.plot([x1, x2], [y1, y2], marker='o')\n",
    "        \n",
    "xmin, xmax, ymin, ymax = 0, 255, 0, 255\n",
    "plt.ylim(ymax, ymin)\n",
    "plt.show()"
   ]
  },
  {
   "cell_type": "code",
   "execution_count": null,
   "id": "627ad1c9",
   "metadata": {},
   "outputs": [],
   "source": [
    "px.imshow(BnW_image)"
   ]
  },
  {
   "cell_type": "code",
   "execution_count": null,
   "id": "e06c8512",
   "metadata": {},
   "outputs": [],
   "source": [
    "# candidate = can[3]\n",
    "# print(f\"y candidate = {candidate}\")\n",
    "# x_candidates = sorted([x for x, y in image.nonzero_pixels if y == candidate])\n",
    "# x_candidates\n",
    "# min_length = 10\n",
    "# max_gap = 2\n",
    "\n",
    "# lines= []\n",
    "# line = [x_candidates[0]]\n",
    "\n",
    "# for x0, x1 in zip(x_candidates[:-1], x_candidates[1:]):\n",
    "#     if x1 - x0 <= max_gap:\n",
    "#         line.append(x1)\n",
    "#     else:\n",
    "#         line = []\n",
    "#     if len(line) >= min_length and line not in lines:\n",
    "#         lines.append(line)\n",
    "# lines_coords = [[(line[0], candidate), (line[-1], candidate)] for line in lines]\n",
    "# lines_coords"
   ]
  },
  {
   "cell_type": "code",
   "execution_count": null,
   "id": "086b4106",
   "metadata": {},
   "outputs": [],
   "source": [
    "# x_candidates"
   ]
  },
  {
   "cell_type": "code",
   "execution_count": null,
   "id": "42af6c2c",
   "metadata": {},
   "outputs": [],
   "source": [
    "lines = image.find_all_lines(max_gap=10, min_line_length=10)\n",
    "print(lines)\n",
    "\n",
    "plt.figure(figsize=(10,6))\n",
    "for line in lines.values():\n",
    "    if line:\n",
    "        print(line[0][0])\n",
    "        x1, y1 = line[0][0]\n",
    "        x2, y2 = line[0][1]\n",
    "        plt.plot([x1, x2], [y1, y2], marker='o')\n",
    "        \n",
    "xmin, xmax, ymin, ymax = 0, 255, 0, 255\n",
    "plt.ylim(ymax, ymin)\n",
    "plt.show()"
   ]
  },
  {
   "cell_type": "code",
   "execution_count": null,
   "id": "cb836dde",
   "metadata": {},
   "outputs": [],
   "source": [
    "px.imshow(BnW_image)"
   ]
  },
  {
   "cell_type": "code",
   "execution_count": null,
   "id": "1a773a74",
   "metadata": {},
   "outputs": [],
   "source": [
    "image.get_top_coordinates(min_freq=50, coord='x')"
   ]
  },
  {
   "cell_type": "code",
   "execution_count": null,
   "id": "87d98a9e",
   "metadata": {},
   "outputs": [],
   "source": [
    "image.nonzero_pixels"
   ]
  },
  {
   "cell_type": "code",
   "execution_count": null,
   "id": "28abb53d",
   "metadata": {},
   "outputs": [],
   "source": [
    "px.imshow(image.BnW_image)"
   ]
  },
  {
   "cell_type": "markdown",
   "id": "5a5eecc8",
   "metadata": {},
   "source": [
    "# Array based line detection"
   ]
  },
  {
   "cell_type": "code",
   "execution_count": null,
   "id": "6a2428a1",
   "metadata": {},
   "outputs": [],
   "source": [
    "input_path = \"/home/joanna/Pulpit/Bioinf 2.2/ADP/projekt/pdf_tree_converter/test_data/dendogram2.png\""
   ]
  },
  {
   "cell_type": "code",
   "execution_count": null,
   "id": "acaa648f",
   "metadata": {
    "scrolled": false
   },
   "outputs": [],
   "source": [
    "# read the image\n",
    "image = cv2.imread(input_path)\n",
    "\n",
    "#Convert an image from BGR to grayscale mode \n",
    "gray_image = cv2.cvtColor(image, cv2.COLOR_BGR2GRAY)\n",
    "  \n",
    "#Convert a grayscale image to black and white using binary thresholding \n",
    "(thresh, BnW_image) = cv2.threshold(gray_image, 125, 255, cv2.THRESH_BINARY)\n",
    "\n",
    "BnW_image = np.where(BnW_image==255, 0, 255)\n",
    "\n",
    "#display all the images\n",
    "# fig = px.imshow(image, title='Original image')\n",
    "# fig.show()\n",
    "\n",
    "# fig = px.imshow(gray_image, title=\"Gray image\")\n",
    "# fig.show()\n",
    "\n",
    "px.imshow(BnW_image, title=\"Black and white image\")"
   ]
  },
  {
   "cell_type": "code",
   "execution_count": null,
   "id": "9ecf291d",
   "metadata": {},
   "outputs": [],
   "source": [
    "BnW_image.nonzero()"
   ]
  }
 ],
 "metadata": {
  "kernelspec": {
   "display_name": "Python 3 (ipykernel)",
   "language": "python",
   "name": "python3"
  },
  "language_info": {
   "codemirror_mode": {
    "name": "ipython",
    "version": 3
   },
   "file_extension": ".py",
   "mimetype": "text/x-python",
   "name": "python",
   "nbconvert_exporter": "python",
   "pygments_lexer": "ipython3",
   "version": "3.10.5"
  }
 },
 "nbformat": 4,
 "nbformat_minor": 5
}
