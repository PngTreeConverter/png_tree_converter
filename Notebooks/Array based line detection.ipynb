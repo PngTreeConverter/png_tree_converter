{
 "cells": [
  {
   "cell_type": "code",
   "execution_count": null,
   "id": "52fbcefd",
   "metadata": {},
   "outputs": [],
   "source": [
    "import cv2\n",
    "from collections import Counter\n",
    "import matplotlib.pyplot as plt\n",
    "import plotly.express as px\n",
    "import numpy as np\n",
    "import sys\n",
    "sys.path.append('../')\n",
    "import TreeConverter as tc"
   ]
  },
  {
   "cell_type": "code",
   "execution_count": null,
   "id": "38f49c3e",
   "metadata": {},
   "outputs": [],
   "source": [
    "image = tc.Image('../test_data/dendrogram3.png', resize_factor=0.25)\n",
    "v_lines, h_lines, internal_nodes, leaves = image.tree_image.find_lines_intersections_leaves(legend=True,orientation='horizontal',\n",
    "                                                 intersection_threshold=5, min_freq=100)"
   ]
  },
  {
   "cell_type": "code",
   "execution_count": null,
   "id": "aff50218",
   "metadata": {},
   "outputs": [],
   "source": [
    "image = tc.Image('../test_data/tree4.png', resize_factor=0.25)\n",
    "v_lines, h_lines, internal_nodes, leaves = image.tree_image.find_lines_intersections_leaves(legend=True,orientation='horizontal',\n",
    "                                                 intersection_threshold=7, min_freq=100)"
   ]
  },
  {
   "cell_type": "code",
   "execution_count": null,
   "id": "420fc387",
   "metadata": {},
   "outputs": [],
   "source": [
    "image = tc.Image('../test_data/tree5.png', resize_factor=0.25)\n",
    "v_lines, h_lines, internal_nodes, leaves = image.tree_image.find_lines_intersections_leaves(legend=True,orientation='horizontal',\n",
    "                                                 intersection_threshold=15, min_freq=100)"
   ]
  },
  {
   "cell_type": "code",
   "execution_count": null,
   "id": "f5b357de",
   "metadata": {},
   "outputs": [],
   "source": [
    "image = tc.Image('../test_data/tree6.png', resize_factor=0.25)\n",
    "v_lines, h_lines, internal_nodes, leaves = image.tree_image.find_lines_intersections_leaves(legend=True,orientation='horizontal',\n",
    "                                                 intersection_threshold=5, min_freq=100)"
   ]
  },
  {
   "cell_type": "code",
   "execution_count": null,
   "id": "519bab52",
   "metadata": {},
   "outputs": [],
   "source": [
    "image = tc.Image('../test_data/tree_a.png', resize_factor=0.25)\n",
    "v_lines, h_lines, internal_nodes, leaves = image.tree_image.find_lines_intersections_leaves(legend=True,orientation='horizontal',\n",
    "                                                 intersection_threshold=5, min_freq=100)"
   ]
  },
  {
   "cell_type": "code",
   "execution_count": null,
   "id": "9638ac95",
   "metadata": {},
   "outputs": [],
   "source": [
    "image = tc.Image('../test_data/tree_b.png', resize_factor=0.25)\n",
    "v_lines, h_lines, internal_nodes, leaves = image.tree_image.find_lines_intersections_leaves(legend=True,orientation='horizontal',\n",
    "                                                 intersection_threshold=5, min_freq=100)"
   ]
  },
  {
   "cell_type": "code",
   "execution_count": null,
   "id": "68d72513",
   "metadata": {},
   "outputs": [],
   "source": [
    "image = tc.Image('../test_data/big_tree.png', resize_factor=0.5)\n",
    "v_lines, h_lines, internal_nodes, leaves = image.tree_image.find_lines_intersections_leaves(legend=True,orientation='horizontal',\n",
    "                                                 intersection_threshold=5, min_freq=100)"
   ]
  },
  {
   "cell_type": "code",
   "execution_count": null,
   "id": "9897292a",
   "metadata": {},
   "outputs": [],
   "source": [
    "tree_image = tc.TreeImage('../test_data/big_tree_tree_cropped.png', resize_factor=4)\n",
    "tree_image.find_lines_intersections_leaves(legend=True, orientation='horizontal',\n",
    "                                           intersection_threshold=10, min_freq=8)"
   ]
  },
  {
   "attachments": {},
   "cell_type": "markdown",
   "id": "0431eb83",
   "metadata": {},
   "source": [
    "### Trees"
   ]
  },
  {
   "cell_type": "code",
   "execution_count": null,
   "id": "9d876246",
   "metadata": {
    "scrolled": false
   },
   "outputs": [],
   "source": [
    "image = tc.TreeImage('../test_data/dendogram2.png')\n",
    "v_lines, h_lines, filtered_intersections, filtered_leaves = image.find_lines_intersections_leaves(legend=True,\n",
    "                                                                                                 orientation=\"vertical\",\n",
    "                                                                                                 intersection_threshold=5)"
   ]
  },
  {
   "cell_type": "code",
   "execution_count": null,
   "id": "df3df1e5",
   "metadata": {
    "scrolled": false
   },
   "outputs": [],
   "source": [
    "image = tc.TreeImage('../test_data/dendrogram_without_text.png')\n",
    "v_lines, h_lines, filtered_intersections, filtered_leaves = image.find_lines_intersections_leaves(legend=True, \n",
    "                                                                                                 orientation=\"vertical\")"
   ]
  },
  {
   "cell_type": "code",
   "execution_count": null,
   "id": "cc7889ca",
   "metadata": {
    "scrolled": false
   },
   "outputs": [],
   "source": [
    "image = tc.TreeImage('../test_data/dendrogram_without_text_inverted.png')\n",
    "v_lines, h_lines, filtered_intersections, filtered_leaves = image.find_lines_intersections_leaves(legend=True,\n",
    "                                                                                                 orientation='horizontal')"
   ]
  },
  {
   "cell_type": "code",
   "execution_count": null,
   "id": "5753495b",
   "metadata": {
    "scrolled": false
   },
   "outputs": [],
   "source": [
    "image = tc.TreeImage('../test_data/asia_tree1.png')\n",
    "v_lines, h_lines, filtered_intersections, filtered_leaves = image.find_lines_intersections_leaves(legend=False,\n",
    "                                                                                                 orientation='horizontal', \n",
    "                                                                                                 intersection_threshold=6)"
   ]
  },
  {
   "cell_type": "code",
   "execution_count": null,
   "id": "33b39dbb",
   "metadata": {},
   "outputs": [],
   "source": []
  },
  {
   "cell_type": "code",
   "execution_count": null,
   "id": "a420f315",
   "metadata": {},
   "outputs": [],
   "source": []
  }
 ],
 "metadata": {
  "kernelspec": {
   "display_name": "Python 3 (ipykernel)",
   "language": "python",
   "name": "python3"
  },
  "language_info": {
   "codemirror_mode": {
    "name": "ipython",
    "version": 3
   },
   "file_extension": ".py",
   "mimetype": "text/x-python",
   "name": "python",
   "nbconvert_exporter": "python",
   "pygments_lexer": "ipython3",
   "version": "3.8.10"
  }
 },
 "nbformat": 4,
 "nbformat_minor": 5
}
