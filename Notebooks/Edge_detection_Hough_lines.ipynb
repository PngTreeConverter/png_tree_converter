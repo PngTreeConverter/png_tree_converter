{
 "cells": [
  {
   "cell_type": "code",
   "execution_count": null,
   "id": "e90fa2e3",
   "metadata": {},
   "outputs": [],
   "source": [
    "import cv2\n",
    "import numpy as np\n",
    "import matplotlib.pyplot as plt\n",
    "import plotly.express as px\n",
    "from PIL import Image, ImageFilter\n",
    "import matplotlib.pyplot as plt\n",
    "\n",
    "import numpy as np\n",
    "import matplotlib.pyplot as plt\n",
    "from scipy import ndimage as ndi\n",
    "from skimage.util import random_noise\n",
    "from skimage import feature\n"
   ]
  },
  {
   "cell_type": "markdown",
   "id": "8fe3f3b1",
   "metadata": {},
   "source": [
    "# Edge detection + Hough lines\n",
    "\n",
    "### Tutorial links:\n",
    "* Rubik's Code with Hough line detection: https://rubikscode.net/2022/06/13/thresholding-edge-contour-and-line-detection-with-opencv/\n",
    "* canny edge detection from scikit: https://scikit-image.org/docs/dev/auto_examples/edges/plot_canny.html\n"
   ]
  },
  {
   "cell_type": "code",
   "execution_count": null,
   "id": "63141dd1",
   "metadata": {},
   "outputs": [],
   "source": [
    "input_path = \"test_data/Dendrogram.png\""
   ]
  },
  {
   "cell_type": "code",
   "execution_count": null,
   "id": "1d537dcb",
   "metadata": {
    "scrolled": false
   },
   "outputs": [],
   "source": [
    "# read the image\n",
    "image = cv2.imread(input_path)\n",
    "img_gray = cv2.cvtColor(image, cv2.COLOR_BGR2GRAY)\n",
    "px.imshow(image, title=\"Test dedrogram\")"
   ]
  },
  {
   "cell_type": "code",
   "execution_count": null,
   "id": "2b5a8200",
   "metadata": {},
   "outputs": [],
   "source": [
    "# 1. Try edge detection using Canny\n",
    "edges = cv2.Canny(img_gray, threshold1=150, threshold2=200)\n",
    "px.imshow(edges)"
   ]
  },
  {
   "cell_type": "code",
   "execution_count": null,
   "id": "a4d0b638",
   "metadata": {
    "scrolled": true
   },
   "outputs": [],
   "source": [
    "image_pil = Image.open(input_path)\n",
    " \n",
    "# Converting the image to grayscale, as edge detection\n",
    "# requires input image to be of mode = Grayscale (L)\n",
    "image_pil = image_pil.convert(\"L\")\n",
    " \n",
    "# Detecting Edges on the Image using the argument ImageFilter.FIND_EDGES\n",
    "image_pil = image_pil.filter(ImageFilter.FIND_EDGES)\n",
    "image_array = np.array(image_pil)\n",
    "image_pil"
   ]
  },
  {
   "cell_type": "code",
   "execution_count": null,
   "id": "44db8594",
   "metadata": {},
   "outputs": [],
   "source": [
    "# Compute the Canny filter for two values of sigma\n",
    "edges1 = feature.canny(img_gray)\n",
    "edges2 = feature.canny(img_gray, sigma=3)\n",
    "\n",
    "# display results\n",
    "fig, ax = plt.subplots(nrows=1, ncols=3, figsize=(20, 9))\n",
    "\n",
    "ax[0].imshow(image, cmap='gray')\n",
    "ax[0].set_title('noisy image', fontsize=20)\n",
    "\n",
    "ax[1].imshow(edges1, cmap='gray')\n",
    "ax[1].set_title(r'Canny filter, $\\sigma=1$', fontsize=20)\n",
    "\n",
    "ax[2].imshow(edges2, cmap='gray')\n",
    "ax[2].set_title(r'Canny filter, $\\sigma=3$', fontsize=20)\n",
    "\n",
    "for a in ax:\n",
    "    a.axis('off')\n",
    "\n",
    "fig.tight_layout()\n",
    "plt.show()"
   ]
  },
  {
   "cell_type": "markdown",
   "id": "ec5ea893",
   "metadata": {},
   "source": [
    "# Hough line transforms"
   ]
  },
  {
   "cell_type": "code",
   "execution_count": null,
   "id": "363b106c",
   "metadata": {},
   "outputs": [],
   "source": [
    "img = cv2.imread(input_path)\n",
    "edge_image = cv2.Canny(img,250,200)\n",
    "img = cv2.cvtColor(img,cv2.COLOR_BGR2GRAY)\n",
    "px.imshow(edge_image)"
   ]
  },
  {
   "cell_type": "code",
   "execution_count": null,
   "id": "36ac4748",
   "metadata": {},
   "outputs": [],
   "source": [
    "def plot_lines(lines, figsize=(10,6)):\n",
    "    plt.figure(figsize=figsize)    \n",
    "    for line in lines:\n",
    "        line = line[0]\n",
    "        x = [line[0], line[2]]\n",
    "        y = [line[1], line[3]]\n",
    "        plt.plot(x, y, 'b-')\n",
    "    xmin, xmax, ymin, ymax = plt.axis()\n",
    "    plt.ylim(ymax, ymin)\n",
    "    plt.title(\"Edge detection with Hough lines\")\n",
    "    plt.show()"
   ]
  },
  {
   "cell_type": "code",
   "execution_count": null,
   "id": "9418c1d9",
   "metadata": {},
   "outputs": [],
   "source": [
    "lines = cv2.HoughLinesP(edge_image, 1, np.pi/180, 60, minLineLength=1, maxLineGap=20)\n",
    "\n",
    "print(f\"Example lines from Hough Lines = {lines[0]}, number of lines = {len(lines)}\")\n",
    "plot_lines(lines)"
   ]
  },
  {
   "cell_type": "code",
   "execution_count": null,
   "id": "c3683fc3",
   "metadata": {},
   "outputs": [],
   "source": [
    "# Run on edge detection from PIL\n",
    "lines2 = cv2.HoughLinesP(image_array, 1, np.pi/180, 60, minLineLength=1, maxLineGap=20)\n",
    "\n",
    "print(f\"Example lines from Hough Lines = {lines2[0]}, number of lines = {len(lines2)}\")\n",
    "plot_lines(lines2)"
   ]
  }
 ],
 "metadata": {
  "kernelspec": {
   "display_name": "Python 3 (ipykernel)",
   "language": "python",
   "name": "python3"
  },
  "language_info": {
   "codemirror_mode": {
    "name": "ipython",
    "version": 3
   },
   "file_extension": ".py",
   "mimetype": "text/x-python",
   "name": "python",
   "nbconvert_exporter": "python",
   "pygments_lexer": "ipython3",
   "version": "3.10.5"
  }
 },
 "nbformat": 4,
 "nbformat_minor": 5
}
